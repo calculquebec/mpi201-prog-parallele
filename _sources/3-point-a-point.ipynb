{
 "cells": [
  {
   "cell_type": "markdown",
   "id": "e90f3f2a-0edb-4d88-9b0c-b160a53527f5",
   "metadata": {},
   "source": [
    "# Communications point-à-point\n",
    "\n",
    "* Elles sont _locales_, c'est-à-dire que seuls **deux\n",
    "  processus** sont impliqués : ils sont les seuls à\n",
    "  appeler réciproquement des fonctions de communication,\n",
    "  donc ils sont les seuls à participer à cet échange\n",
    "    * Note : les appels aux fonctions d'envoi et de réception\n",
    "      viennent toujours par paires sur des processus différents\n",
    "* Les fonctions d’envoi et de réception peuvent être bloquantes ou non"
   ]
  },
  {
   "cell_type": "markdown",
   "id": "c347c05f-ef9f-4b02-9d67-86a588d85ac6",
   "metadata": {},
   "source": [
    "## `MPI_Send()` (bloquant)\n",
    "\n",
    "En C :\n",
    "\n",
    "```C\n",
    "int MPI_Send(void *envoi, int compte, MPI_Datatype type,\n",
    "             int dest, int etiquette, MPI_Comm comm);\n",
    "```\n",
    "\n",
    "* `envoi` : adresse en mémoire du premier élément à envoyer\n",
    "* `compte` : nombre d’éléments de type `type`\n",
    "* `type` : type MPI tel que `MPI_INT`, `MPI_DOUBLE`, etc.\n",
    "* `dest` : rang du processus recevant\n",
    "* `etiquette` : nombre entier identifiant le type de transfert"
   ]
  },
  {
   "cell_type": "markdown",
   "id": "87d7cd1b-7231-46ef-9f66-5aa3a569ce41",
   "metadata": {},
   "source": [
    "En Python :\n",
    "\n",
    "```Python\n",
    "comm.send(objet, dest=dest, tag=etiquette)\n",
    "```\n",
    "\n",
    "* `objet` : n'importe quel objet sérialisable via\n",
    "  [`pickle`](https://docs.python.org/3/library/pickle.html#module-pickle)"
   ]
  },
  {
   "cell_type": "markdown",
   "id": "370d0313-6453-4b7f-9a84-375cae86e175",
   "metadata": {},
   "source": [
    "## `MPI_Recv()` (bloquant)\n",
    "\n",
    "En C :\n",
    "\n",
    "```C\n",
    "int MPI_Recv(void *recept, int compte, MPI_Datatype type,\n",
    "             int source, int etiquette, MPI_Comm comm,\n",
    "             MPI_Status *etat);\n",
    "```\n",
    "\n",
    "* `recept` : adresse en mémoire du premier élément à recevoir\n",
    "* `compte` : nombre maximal d'éléments de type `type`\n",
    "* `source` : rang du processus transmettant,\n",
    "  ça peut être `MPI_ANY_SOURCE`\n",
    "* `etiquette` : ça peut être `MPI_ANY_TAG`\n",
    "* `etat` : informations sur le transfert\n",
    "    * `.count` : nombre d’éléments reçus de type `type`\n",
    "    * `.MPI_SOURCE` : rang de la source des données\n",
    "    * `.MPI_TAG` : étiquette du transfert"
   ]
  },
  {
   "cell_type": "markdown",
   "id": "3814bbce-5760-42eb-b3e7-badd7d7b4624",
   "metadata": {},
   "source": [
    "En Python :\n",
    "\n",
    "```Python\n",
    "objet = comm.recv(source=source, tag=etiquette)\n",
    "```\n",
    "\n",
    "* `objet` : une variable ou une partie d'un objet modifiable"
   ]
  },
  {
   "cell_type": "code",
   "execution_count": null,
   "id": "7168b32e-6a92-489f-aa8d-a45503944a3f",
   "metadata": {},
   "outputs": [],
   "source": []
  }
 ],
 "metadata": {
  "kernelspec": {
   "display_name": "Python 3 (ipykernel)",
   "language": "python",
   "name": "python3"
  },
  "language_info": {
   "codemirror_mode": {
    "name": "ipython",
    "version": 3
   },
   "file_extension": ".py",
   "mimetype": "text/x-python",
   "name": "python",
   "nbconvert_exporter": "python",
   "pygments_lexer": "ipython3",
   "version": "3.11.7"
  }
 },
 "nbformat": 4,
 "nbformat_minor": 5
}
