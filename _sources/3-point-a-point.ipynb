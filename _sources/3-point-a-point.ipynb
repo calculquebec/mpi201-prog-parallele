{
 "cells": [
  {
   "cell_type": "markdown",
   "id": "e90f3f2a-0edb-4d88-9b0c-b160a53527f5",
   "metadata": {},
   "source": [
    "# Communications point-à-point\n",
    "\n",
    "* Elles sont _locales_, c'est-à-dire que seuls **deux\n",
    "  processus** sont impliqués : ils sont les seuls à\n",
    "  appeler réciproquement des fonctions de communication,\n",
    "  donc ils sont les seuls à participer à cet échange\n",
    "    * Note : les appels aux fonctions d'envoi et de réception\n",
    "      viennent toujours par paires sur des processus différents\n",
    "* Les fonctions d’envoi et de réception peuvent être bloquantes ou non"
   ]
  },
  {
   "cell_type": "markdown",
   "id": "c347c05f-ef9f-4b02-9d67-86a588d85ac6",
   "metadata": {},
   "source": [
    "## `MPI_Send()` (bloquant)\n",
    "\n",
    "En C :\n",
    "\n",
    "```C\n",
    "int MPI_Send(void *envoi, int compte, MPI_Datatype type,\n",
    "             int dest, int etiquette, MPI_Comm comm);\n",
    "```\n",
    "\n",
    "* `envoi` : adresse en mémoire du premier élément à envoyer\n",
    "* `compte` : nombre d’éléments de type `type`\n",
    "* `type` : type MPI tel que `MPI_INT`, `MPI_DOUBLE`, etc.\n",
    "* `dest` : rang du processus recevant\n",
    "* `etiquette` : nombre entier identifiant le type de transfert"
   ]
  },
  {
   "cell_type": "markdown",
   "id": "87d7cd1b-7231-46ef-9f66-5aa3a569ce41",
   "metadata": {},
   "source": [
    "En Python :\n",
    "\n",
    "```Python\n",
    "comm.send(objet, dest=dest, tag=etiquette)\n",
    "```\n",
    "\n",
    "* `objet` : n'importe quel objet sérialisable via\n",
    "  [`pickle`](https://docs.python.org/3/library/pickle.html#module-pickle)"
   ]
  },
  {
   "cell_type": "markdown",
   "id": "370d0313-6453-4b7f-9a84-375cae86e175",
   "metadata": {},
   "source": [
    "## `MPI_Recv()` (bloquant)\n",
    "\n",
    "En C :\n",
    "\n",
    "```C\n",
    "int MPI_Recv(void *recept, int compte, MPI_Datatype type,\n",
    "             int source, int etiquette, MPI_Comm comm,\n",
    "             MPI_Status *etat);\n",
    "```\n",
    "\n",
    "* `recept` : adresse en mémoire du premier élément à recevoir\n",
    "* `compte` : nombre maximal d'éléments de type `type`\n",
    "* `source` : rang du processus transmettant,\n",
    "  ça peut être `MPI_ANY_SOURCE`\n",
    "* `etiquette` : ça peut être `MPI_ANY_TAG`\n",
    "* `etat` : informations sur le transfert\n",
    "    * `.count` : nombre d’éléments reçus de type `type`\n",
    "    * `.MPI_SOURCE` : rang de la source des données\n",
    "    * `.MPI_TAG` : étiquette du transfert"
   ]
  },
  {
   "cell_type": "markdown",
   "id": "3814bbce-5760-42eb-b3e7-badd7d7b4624",
   "metadata": {},
   "source": [
    "En Python :\n",
    "\n",
    "```Python\n",
    "objet = comm.recv(source=source, tag=etiquette, status=etat)\n",
    "```\n",
    "\n",
    "* `objet` : une variable ou une partie d'un objet modifiable,\n",
    "  pour recevoir l'objet désérialisé\n",
    "* `source` : `MPI.ANY_SOURCE` (valeur par défaut) ou un rang précis\n",
    "* `etiquette` : `MPI.ANY_TAG` (valeur par défaut) ou un nombre précis\n",
    "* `etat` : `None` (valeur par défaut) ou objet de type `MPI.Status`\n",
    "    * `.count` : nombre d’octets reçus\n",
    "    * `.source` : rang de la source des données\n",
    "    * `.tag` : étiquette du transfert"
   ]
  },
  {
   "cell_type": "markdown",
   "id": "4a1c07b9-27f7-4f96-a73c-36d5bef57e88",
   "metadata": {},
   "source": [
    "### Exemple - `MPI_Send` et `MPI_Recv`\n",
    "\n",
    "Chaque processus a ses propres variables `a` et `b`.\n",
    "Le processus 2 envoie la valeur de son `a` vers\n",
    "le processus 0 qui reçoit cette valeur via son `b`.\n",
    "\n",
    "![Figure - Communication point à point](images/mpi_point2point.svg)\n",
    "\n",
    "En C :\n",
    "\n",
    "```C\n",
    "if (proc == 2) {\n",
    "    MPI_Send(&a, 1, MPI_INTEGER, 0, 746, MPI_COMM_WORLD);\n",
    "}\n",
    "else if (proc == 0) {\n",
    "    MPI_Recv(&b, 1, MPI_INTEGER, 2, 746, MPI_COMM_WORLD, &etat);\n",
    "}\n",
    "```\n",
    "\n",
    "En Python :\n",
    "\n",
    "```Python\n",
    "if proc == 2:\n",
    "    MPI.COMM_WORLD.send(a, dest=0, tag=746)\n",
    "elif proc == 0:\n",
    "    b = MPI.COMM_WORLD.recv(source=2, tag=746)\n",
    "```"
   ]
  },
  {
   "cell_type": "markdown",
   "id": "be4f63de-b409-4d16-99c2-b2a9f6c08426",
   "metadata": {},
   "source": [
    "### Exercice #2 - Envoi d'une matrice\n",
    "\n",
    "Votre objectif : envoyer une matrice 4x4 du processus 0 au processus 1 :\n",
    "\n",
    "1. Dans le dossier `exercices`, éditez le fichier `send_matrix.c`\n",
    "   (ou `.py`) pour programmer le transfert de la matrice\n",
    "1. Compilez le code et lancez-le avec deux (2) processus"
   ]
  },
  {
   "cell_type": "code",
   "execution_count": null,
   "id": "4cef0a67-9494-4bd7-98a4-a63d082efc19",
   "metadata": {},
   "outputs": [],
   "source": []
  }
 ],
 "metadata": {
  "kernelspec": {
   "display_name": "Python 3 (ipykernel)",
   "language": "python",
   "name": "python3"
  },
  "language_info": {
   "codemirror_mode": {
    "name": "ipython",
    "version": 3
   },
   "file_extension": ".py",
   "mimetype": "text/x-python",
   "name": "python",
   "nbconvert_exporter": "python",
   "pygments_lexer": "ipython3",
   "version": "3.11.7"
  }
 },
 "nbformat": 4,
 "nbformat_minor": 5
}
