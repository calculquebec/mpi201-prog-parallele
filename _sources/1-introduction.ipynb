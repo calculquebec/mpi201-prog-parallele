{
 "cells": [
  {
   "cell_type": "markdown",
   "id": "219bf4b2-b696-4f55-b6c1-dad671597f0a",
   "metadata": {},
   "source": [
    "# Introduction"
   ]
  },
  {
   "cell_type": "markdown",
   "id": "4abc59cf-0be3-47af-981d-6a5cc2c9af69",
   "metadata": {},
   "source": [
    "Il y a deux grandes catégories de tâches\n",
    "qui travaillent sur un même problème :\n",
    "![Séquentiel vs parallel](images/serial-vs-parallel.svg)"
   ]
  },
  {
   "cell_type": "markdown",
   "id": "a186264d-30aa-44c2-b087-d1620ddf9476",
   "metadata": {},
   "source": [
    "Or, les superordinateurs modernes consistent en un **grand nombre de\n",
    "serveurs** de calcul contenant chacun **plusieurs processeurs**\n",
    "qui doivent se **coordonner** pour exécuter un programme parallèle.\n",
    "\n",
    "![Béluga CQ branchements 3](https://live.staticflickr.com/65535/49019703558_3c49a9766e.jpg)"
   ]
  },
  {
   "cell_type": "markdown",
   "id": "b26e8206-6c05-4e1b-bd09-98dae95fe993",
   "metadata": {},
   "source": [
    "MPI est la méthode la plus **courante et portable** de\n",
    "paralléliser un programme s’exécutant sur plusieurs serveurs."
   ]
  },
  {
   "cell_type": "markdown",
   "id": "6f1e119d-805e-4338-aac9-4f9ba2496469",
   "metadata": {},
   "source": [
    "## Machine à mémoire distribuée\n",
    "\n",
    "![Machine à mémoire distribuée - serveurs](images/distributed-memory-hardware.svg)\n",
    "\n",
    "Des variables en apparence identiques sont en fait des\n",
    "**instances totalement différentes dans des processus différents**.\n",
    "Par conséquent, il devient nécessaire d'établir un moyen de\n",
    "communication entre les processus pour **transférer des données**.\n",
    "\n",
    "![Machine à mémoire distribuée - processus](images/distributed-memory-processes.svg)"
   ]
  },
  {
   "cell_type": "markdown",
   "id": "5849a3ec-7209-4267-895a-f9b959ed3bb9",
   "metadata": {},
   "source": [
    "## Des questions à se poser\n",
    "* Pourquoi diviser le travail sur plusieurs serveurs?\n",
    "  * Possibilité d'accélérer un calcul\n",
    "  * Mémoire-vive limitée sur chaque serveur\n",
    "* Comment envoyer et recevoir des données entre les processus?\n",
    "  * C'est ce que nous allons voir dans les chapitres suivants!"
   ]
  },
  {
   "cell_type": "code",
   "execution_count": null,
   "id": "af28d9dc-f162-40f9-ad35-44caf8b65509",
   "metadata": {},
   "outputs": [],
   "source": []
  }
 ],
 "metadata": {
  "kernelspec": {
   "display_name": "Python 3 (ipykernel)",
   "language": "python",
   "name": "python3"
  },
  "language_info": {
   "codemirror_mode": {
    "name": "ipython",
    "version": 3
   },
   "file_extension": ".py",
   "mimetype": "text/x-python",
   "name": "python",
   "nbconvert_exporter": "python",
   "pygments_lexer": "ipython3",
   "version": "3.11.7"
  }
 },
 "nbformat": 4,
 "nbformat_minor": 5
}
