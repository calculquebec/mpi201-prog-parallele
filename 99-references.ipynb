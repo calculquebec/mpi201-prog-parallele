{
 "cells": [
  {
   "cell_type": "markdown",
   "id": "44b81c12-5322-427e-873c-d460f0c7a925",
   "metadata": {},
   "source": [
    "# Références"
   ]
  },
  {
   "cell_type": "markdown",
   "id": "079891ae-f40e-419f-b29b-98dd5d55351d",
   "metadata": {},
   "source": [
    "Sources d'information à propos de MPI :\n",
    "\n",
    "* Documents officiels (C/Fortran) : https://www.mpi-forum.org\n",
    "    * Boost MPI (C++) : https://www.boost.org/doc/libs/release/libs/mpi/\n",
    "    * mpi4py (Python) : https://mpi4py.readthedocs.io/en/latest/index.html\n",
    "* Ligne de commande : `man MPI_Fonction`\n",
    "    * Par exemple : `man MPI_Sendrecv`\n",
    "* Livres :\n",
    "    * [Using MPI, 3e édition](https://mitpress.mit.edu/9780262527392/using-mpi/)\n",
    "      (Gropp, Lusk et Skjellum)\n",
    "        * [Using Advanced MPI](https://mitpress.mit.edu/9780262527637/using-advanced-mpi/)\n",
    "          (Gropp, Hoefler, Thakur, Lusk)\n",
    "    * [MPI: The Complete Reference](http://www.netlib.org/utk/papers/mpi-book/mpi-book.html)\n",
    "      (Snir, Dongarra, Kowalik, Huss-Lederman, Otto, Walker)\n",
    "    * [Parallel Programming with MPI](https://www.cs.usfca.edu/~peter/ppmpi/)\n",
    "      (Pacheco)\n",
    "* Tutoriels :\n",
    "    * https://hpc-tutorials.llnl.gov/mpi/\n",
    "    * https://www.mcs.anl.gov/research/projects/mpi/tutorial/\n",
    "* Wiki de l’Alliance : https://docs.alliancecan.ca/wiki/MPI/fr"
   ]
  },
  {
   "cell_type": "markdown",
   "id": "38d9d62d-def9-4a75-850f-2f82099ebf2d",
   "metadata": {},
   "source": [
    " Concept | C/Fortran | Python ([`mpi4py`](https://mpi4py.readthedocs.io/en/latest/index.html))\n",
    ":-------:|:----------|:-------\n",
    "Initialisation | [`MPI_Init()`](https://www.mpi-forum.org/docs/mpi-4.1/mpi41-report.pdf#subsection.11.2.1) | [`MPI.Init`](https://mpi4py.readthedocs.io/en/latest/reference/mpi4py.MPI.Init.html#mpi4py.MPI.Init)\n",
    "Finalisation | [`MPI_Finalize()`](https://www.mpi-forum.org/docs/mpi-4.1/mpi41-report.pdf#subsection.11.2.2) | [`MPI.Finalize`](https://mpi4py.readthedocs.io/en/latest/reference/mpi4py.MPI.Finalize.html#mpi4py.MPI.Finalize)\n",
    "Avortement | [`MPI_Abort()`](https://www.mpi-forum.org/docs/mpi-4.1/mpi41-report.pdf#subsection.11.4.2) | `sys.exit(None)`\n",
    "Communicateur | [`MPI_COMM_WORLD`](https://www.mpi-forum.org/docs/mpi-4.1/mpi41-report.pdf#section.11.2) | [`MPI.COMM_WORLD`](https://mpi4py.readthedocs.io/en/latest/reference/mpi4py.MPI.COMM_WORLD.html)\n",
    "Rang | [`MPI_Comm_rank`](https://www.mpi-forum.org/docs/mpi-4.1/mpi41-report.pdf#page=362) | [`MPI.Comm.Get_rank`](https://mpi4py.readthedocs.io/en/latest/reference/mpi4py.MPI.Comm.html#mpi4py.MPI.Comm.Get_rank)\n",
    "Nombre de processus | [`MPI_Comm_size`](https://www.mpi-forum.org/docs/mpi-4.1/mpi41-report.pdf#subsection.7.4.1) | [`MPI.Comm.Get_size`](https://mpi4py.readthedocs.io/en/latest/reference/mpi4py.MPI.Comm.html#mpi4py.MPI.Comm.Get_size)\n",
    "Types de données | [`MPI_CHAR`, ...](https://www.mpi-forum.org/docs/mpi-4.1/mpi41-report.pdf#page=76) | [Sérialisation](https://fr.wikipedia.org/wiki/S%C3%A9rialisation) automatique"
   ]
  },
  {
   "cell_type": "code",
   "execution_count": null,
   "id": "235a61db-f006-47a2-8bbb-6f58364e168d",
   "metadata": {},
   "outputs": [],
   "source": []
  }
 ],
 "metadata": {
  "kernelspec": {
   "display_name": "Python 3 (ipykernel)",
   "language": "python",
   "name": "python3"
  },
  "language_info": {
   "codemirror_mode": {
    "name": "ipython",
    "version": 3
   },
   "file_extension": ".py",
   "mimetype": "text/x-python",
   "name": "python",
   "nbconvert_exporter": "python",
   "pygments_lexer": "ipython3",
   "version": "3.11.7"
  }
 },
 "nbformat": 4,
 "nbformat_minor": 5
}
