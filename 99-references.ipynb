{
 "cells": [
  {
   "cell_type": "markdown",
   "id": "44b81c12-5322-427e-873c-d460f0c7a925",
   "metadata": {},
   "source": [
    "# Références"
   ]
  },
  {
   "cell_type": "markdown",
   "id": "a76f376d-550c-487e-a198-46c49fead72d",
   "metadata": {},
   "source": [
    "**[Wiki de l'Alliance de recherche numérique du Canada](https://docs.alliancecan.ca/wiki/Technical_documentation/fr)**\n",
    "* [Ressources disponibles](https://docs.alliancecan.ca/wiki/Getting_started/fr#Quelles_sont_les_ressources_disponibles.3F)\n",
    "  * Grappes nationales :\n",
    "    * [Béluga](https://docs.alliancecan.ca/wiki/B%C3%A9luga) (CPU/GPU)\n",
    "      * [Stockage](https://docs.alliancecan.ca/wiki/B%c3%a9luga#Stockage)\n",
    "    * [Cedar](https://docs.alliancecan.ca/wiki/Cedar/fr) (CPU/GPU)\n",
    "    * [Graham](https://docs.alliancecan.ca/wiki/Graham/fr) (CPU/GPU)\n",
    "    * [Mist](https://docs.scinet.utoronto.ca/index.php/Mist) (Power9/GPU)\n",
    "    * [Narval](https://docs.alliancecan.ca/wiki/Narval) (CPU/GPU)\n",
    "    * [Niagara](https://docs.alliancecan.ca/wiki/Niagara/fr) (CPU)\n",
    "  * [Stockage et gestion des fichiers](https://docs.alliancecan.ca/wiki/Storage_and_file_management/fr)\n",
    "    * [Archivage et compression de fichiers](https://docs.alliancecan.ca/wiki/Archiving_and_compressing_files/fr)\n",
    "      * [Disk ARchive ou DAR](https://docs.alliancecan.ca/wiki/Dar/fr)\n",
    "      * [Tape ARchive ou TAR](https://docs.alliancecan.ca/wiki/A_tutorial_on_%27tar%27/fr)\n",
    "    * [Hierarchical Data Format - HDF5](https://docs.alliancecan.ca/wiki/HDF5/fr)\n",
    "    * [*Lustre*](https://docs.alliancecan.ca/wiki/Tuning_Lustre/fr), un système de fichiers parallèle\n",
    "    * [Partage de données](https://docs.alliancecan.ca/wiki/Sharing_data/fr)\n",
    "    * [Quotas et politiques](https://docs.alliancecan.ca/wiki/Storage_and_file_management/fr#Quotas_et_politiques)\n",
    "      * [Commande `diskusage_report`](https://docs.alliancecan.ca/wiki/Storage_and_file_management/fr#Introduction)\n",
    "      * [Espace `/scratch`](https://docs.alliancecan.ca/wiki/Scratch_purging_policy/fr) - purge automatique\n",
    "      * [Espace `/project`](https://docs.alliancecan.ca/wiki/Diskusage_Explorer/fr) - commande `diskusage_explorer`\n",
    "      * [Espace `/nearline`](https://docs.alliancecan.ca/wiki/Using_nearline_storage/fr#Transf.C3.A9rer_des_donn.C3.A9es_.C3.A0_partir_de_.2Fnearline) -\n",
    "        état des fichiers\n",
    "      * Foire aux questions : *[Disk quota exceeded](https://docs.alliancecan.ca/wiki/Frequently_Asked_Questions/fr#Message_Disk_quota_exceeded)*\n",
    "    * [Types de stockage](https://docs.alliancecan.ca/wiki/Storage_and_file_management/fr#Types_de_stockage)\n",
    "      * [Espace local sur les nœuds de calcul](https://docs.alliancecan.ca/wiki/Using_node-local_storage/fr) - `$SLURM_TMPDIR`\n",
    "      * [Espace `/project`](https://docs.alliancecan.ca/wiki/Project_layout/fr) -\n",
    "        stockage à moyen terme\n",
    "      * [Espace `/nearline`](https://docs.alliancecan.ca/wiki/Using_nearline_storage/fr) -\n",
    "        stockage long terme\n",
    "    * Transfert de données :\n",
    "      * [Commande `rsync`](https://docs.alliancecan.ca/wiki/Transferring_data/fr#rsync)\n",
    "    * [Travailler avec un grand nombre de fichiers](https://docs.alliancecan.ca/wiki/Handling_large_collections_of_files/fr)"
   ]
  },
  {
   "cell_type": "markdown",
   "id": "d633afae-f934-4e01-8c77-3dd20def5d31",
   "metadata": {},
   "source": [
    "* Analyse des algorithmes\n",
    "  * [Analyse de la complexité des algorithmes](https://fr.wikipedia.org/wiki/Analyse_de_la_complexit%C3%A9_des_algorithmes)\n",
    "  * [Algorithmes de tri](https://fr.wikipedia.org/wiki/Algorithme_de_tri#Comparaison_des_algorithmes)\n",
    "  * [Loi d'Amdahl](https://fr.wikipedia.org/wiki/Loi_d%27Amdahl)"
   ]
  },
  {
   "cell_type": "markdown",
   "id": "ecbb1ab6-9360-4c5a-b3a3-585a128ecffd",
   "metadata": {},
   "source": [
    "**Ateliers de formation et tutoriels**\n",
    "* Webinaire [Authentification multifacteur pour la communauté de recherche](https://www.youtube.com/watch?v=ciycOUbchl8)\n",
    "* Tutoriel [GNU Parallel](https://www.gnu.org/software/parallel/parallel_tutorial.html)\n",
    "* Les prochains ateliers à [Calcul Québec](https://www.eventbrite.ca/o/calcul-quebec-8295332683)\n",
    "  et à [l'Alliance](https://alliancecan.ca/fr/services/calcul-informatique-de-pointe/soutien-la-recherche/calendrier-de-formation)\n",
    "* Tutoriels en ligne [Software Carpentry](https://software-carpentry.org/lessons/)\n",
    "  et [Data Carpentry](https://datacarpentry.org/lessons/)"
   ]
  },
  {
   "cell_type": "code",
   "execution_count": null,
   "id": "235a61db-f006-47a2-8bbb-6f58364e168d",
   "metadata": {},
   "outputs": [],
   "source": []
  }
 ],
 "metadata": {
  "kernelspec": {
   "display_name": "Python 3 (ipykernel)",
   "language": "python",
   "name": "python3"
  },
  "language_info": {
   "codemirror_mode": {
    "name": "ipython",
    "version": 3
   },
   "file_extension": ".py",
   "mimetype": "text/x-python",
   "name": "python",
   "nbconvert_exporter": "python",
   "pygments_lexer": "ipython3",
   "version": "3.11.7"
  }
 },
 "nbformat": 4,
 "nbformat_minor": 5
}
