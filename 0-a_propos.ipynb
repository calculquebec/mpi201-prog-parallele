{
 "cells": [
  {
   "cell_type": "markdown",
   "metadata": {},
   "source": [
    "# Programmation parallèle avec MPI\n",
    "\n",
    "## À propos\n",
    "\n",
    "Cet atelier de formation est de niveau intermédiaire.\n",
    "L'objectif principal est d'apprendre à utiliser une bibliothèque de\n",
    "communication entre processus pour du calcul parallèle distribué.\n",
    "\n",
    "Note : le matériel du présent atelier est\n",
    "[publié sur GitHub](https://github.com/calculquebec/mpi201-prog-parallele)."
   ]
  },
  {
   "cell_type": "markdown",
   "metadata": {},
   "source": [
    "## Table des matières\n",
    "1. [Introduction](1-introduction.ipynb)\n",
    "    1. Machine à mémoire distribuée\n",
    "1. [Premiers pas avec MPI](2-mpi.ipynb)\n",
    "    1. Qu'est-ce que MPI?\n",
    "    1. Structure d'un code MPI\n",
    "    1. Parallélisation explicite\n",
    "    1. Environnement requis pour utiliser MPI\n",
    "    1. Les communications via MPI\n",
    "1. [Communications point-à-point](3-point-a-point.ipynb)\n",
    "    1. `MPI_Send()`\n",
    "    1. `MPI_Recv()`\n",
    "    1. Éviter les situations d'interblocage\n",
    "    1. Communications non bloquantes\n",
    "1. [Communications collectives](4-collectives.ipynb)\n",
    "    1. Déplacements de données\n",
    "    1. Calculs collectifs\n",
    "1. [Conclusion](5-conclusion.ipynb)"
   ]
  },
  {
   "cell_type": "markdown",
   "metadata": {},
   "source": [
    "### Références\n",
    "Voir le notebook des [Références](99-references.ipynb)."
   ]
  },
  {
   "cell_type": "code",
   "execution_count": null,
   "metadata": {},
   "outputs": [],
   "source": []
  }
 ],
 "metadata": {
  "kernelspec": {
   "display_name": "Python 3 (ipykernel)",
   "language": "python",
   "name": "python3"
  },
  "language_info": {
   "codemirror_mode": {
    "name": "ipython",
    "version": 3
   },
   "file_extension": ".py",
   "mimetype": "text/x-python",
   "name": "python",
   "nbconvert_exporter": "python",
   "pygments_lexer": "ipython3",
   "version": "3.11.7"
  }
 },
 "nbformat": 4,
 "nbformat_minor": 4
}
